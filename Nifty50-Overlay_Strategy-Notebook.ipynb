{
 "cells": [
  {
   "cell_type": "code",
   "execution_count": 22,
   "id": "b0bb479e",
   "metadata": {},
   "outputs": [
    {
     "name": "stderr",
     "output_type": "stream",
     "text": [
      "/var/folders/59/27lpl20d01l3sj6sf_qj_1300000gn/T/ipykernel_72743/423793900.py:14: FutureWarning: YF.download() has changed argument auto_adjust default to True\n",
      "  data = yf.download(ticker, period=\"6mo\", interval=\"1d\")\n",
      "[*********************100%***********************]  1 of 1 completed"
     ]
    },
    {
     "name": "stdout",
     "output_type": "stream",
     "text": [
      "⚠️ Warning: Today (2025-08-26) is not month-end (2025-08-31).\n",
      "Calculation will still run using the latest available price.\n",
      "\n",
      "=== Monthly Overlay Strategy Signal ===\n"
     ]
    },
    {
     "name": "stderr",
     "output_type": "stream",
     "text": [
      "\n"
     ]
    },
    {
     "data": {
      "text/html": [
       "<div>\n",
       "<style scoped>\n",
       "    .dataframe tbody tr th:only-of-type {\n",
       "        vertical-align: middle;\n",
       "    }\n",
       "\n",
       "    .dataframe tbody tr th {\n",
       "        vertical-align: top;\n",
       "    }\n",
       "\n",
       "    .dataframe thead th {\n",
       "        text-align: right;\n",
       "    }\n",
       "</style>\n",
       "<table border=\"1\" class=\"dataframe\">\n",
       "  <thead>\n",
       "    <tr style=\"text-align: right;\">\n",
       "      <th></th>\n",
       "      <th>Date</th>\n",
       "      <th>Nifty Spot</th>\n",
       "      <th>200DMA</th>\n",
       "      <th>3M Slope</th>\n",
       "      <th>Trend</th>\n",
       "      <th>Beta (Overlay)</th>\n",
       "      <th>Portfolio (₹ Cr)</th>\n",
       "      <th>Futures Notional (₹)</th>\n",
       "      <th>Lots to Hold</th>\n",
       "      <th>Position</th>\n",
       "    </tr>\n",
       "  </thead>\n",
       "  <tbody>\n",
       "    <tr>\n",
       "      <th>0</th>\n",
       "      <td>2025-08-26</td>\n",
       "      <td>24712.05</td>\n",
       "      <td>24330.79</td>\n",
       "      <td>693.98</td>\n",
       "      <td>Bullish</td>\n",
       "      <td>1.5</td>\n",
       "      <td>1.0</td>\n",
       "      <td>5000000.0</td>\n",
       "      <td>4</td>\n",
       "      <td>LONG</td>\n",
       "    </tr>\n",
       "  </tbody>\n",
       "</table>\n",
       "</div>"
      ],
      "text/plain": [
       "         Date  Nifty Spot    200DMA  3M Slope    Trend  Beta (Overlay)  \\\n",
       "0  2025-08-26    24712.05  24330.79    693.98  Bullish             1.5   \n",
       "\n",
       "   Portfolio (₹ Cr)  Futures Notional (₹)  Lots to Hold Position  \n",
       "0               1.0             5000000.0             4     LONG  "
      ]
     },
     "metadata": {},
     "output_type": "display_data"
    }
   ],
   "source": [
    "import yfinance as yf\n",
    "import pandas as pd\n",
    "import numpy as np\n",
    "from pandas.tseries.offsets import MonthEnd\n",
    "from datetime import datetime\n",
    "\n",
    "# === PARAMETERS ===\n",
    "ticker = \"^NSEI\"\n",
    "portfolio_value = 1e7  # ₹1 Cr\n",
    "lot_size = 50\n",
    "beta_map = {'Bullish': 1.5, 'Neutral': 0.75, 'Bearish': 0.5}\n",
    "\n",
    "# === FETCH DAILY DATA (recent 6 months) ===\n",
    "data = yf.download(ticker, period=\"6mo\", interval=\"1d\")\n",
    "if data.empty:\n",
    "    raise ValueError(\"No data fetched. Check ticker or internet connection.\")\n",
    "\n",
    "# Determine price column\n",
    "price_col = 'Close' if 'Close' in data.columns else 'Adj Close'\n",
    "data = data[[price_col]].copy()\n",
    "data.rename(columns={price_col: 'Price'}, inplace=True)\n",
    "\n",
    "# === CHECK IF TODAY IS MONTH-END ===\n",
    "today = data.index[-1].date()  # last available trading day\n",
    "last_day_of_month = (today + MonthEnd(0)).date()\n",
    "\n",
    "if today != last_day_of_month:\n",
    "    print(f\"⚠️ Warning: Today ({today}) is not month-end ({last_day_of_month}).\")\n",
    "    print(\"Calculation will still run using the latest available price.\\n\")\n",
    "\n",
    "# === CALCULATE 200DMA AND 3-MONTH SLOPE ===\n",
    "data['200DMA'] = data['Price'].rolling(window=200, min_periods=1).mean()\n",
    "data['DMA_slope'] = data['200DMA'].diff(63)  # ~3 months slope\n",
    "\n",
    "latest = data.iloc[-1]\n",
    "spot = latest['Price'].item()\n",
    "dma_200 = latest['200DMA'].item()\n",
    "slope = latest['DMA_slope'].item()\n",
    "as_of = latest.name.date()\n",
    "\n",
    "# === DETERMINE TREND ===\n",
    "if spot > dma_200 and slope > 0:\n",
    "    trend = 'Bullish'\n",
    "elif spot > dma_200:\n",
    "    trend = 'Neutral'\n",
    "else:\n",
    "    trend = 'Bearish'\n",
    "\n",
    "beta = beta_map[trend]\n",
    "\n",
    "# === FUTURES TARGET ===\n",
    "futures_notional = (beta - 1) * portfolio_value\n",
    "lots = int(round(futures_notional / (spot * lot_size)))\n",
    "\n",
    "# === DISPLAY TABLE ===\n",
    "summary = pd.DataFrame({\n",
    "    \"Date\": [as_of],\n",
    "    \"Nifty Spot\": [round(spot,2)],\n",
    "    \"200DMA\": [round(dma_200,2)],\n",
    "    \"3M Slope\": [round(slope,2)],\n",
    "    \"Trend\": [trend],\n",
    "    \"Beta (Overlay)\": [beta],\n",
    "    \"Portfolio (₹ Cr)\": [portfolio_value/1e7],\n",
    "    \"Futures Notional (₹)\": [round(futures_notional,2)],\n",
    "    \"Lots to Hold\": [abs(lots)],\n",
    "    \"Position\": [\"LONG\" if lots > 0 else \"SHORT\" if lots < 0 else \"FLAT\"]\n",
    "})\n",
    "\n",
    "print(\"=== Monthly Overlay Strategy Signal ===\")\n",
    "display(summary)\n"
   ]
  },
  {
   "cell_type": "code",
   "execution_count": null,
   "id": "77538a10",
   "metadata": {},
   "outputs": [],
   "source": []
  }
 ],
 "metadata": {
  "kernelspec": {
   "display_name": "Python 3 (ipykernel)",
   "language": "python",
   "name": "python3"
  },
  "language_info": {
   "codemirror_mode": {
    "name": "ipython",
    "version": 3
   },
   "file_extension": ".py",
   "mimetype": "text/x-python",
   "name": "python",
   "nbconvert_exporter": "python",
   "pygments_lexer": "ipython3",
   "version": "3.9.13"
  }
 },
 "nbformat": 4,
 "nbformat_minor": 5
}
